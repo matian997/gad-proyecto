{
 "cells": [
  {
   "cell_type": "code",
   "execution_count": 1,
   "metadata": {},
   "outputs": [
    {
     "ename": "KeyboardInterrupt",
     "evalue": "",
     "output_type": "error",
     "traceback": [
      "\u001b[1;31m---------------------------------------------------------------------------\u001b[0m",
      "\u001b[1;31mKeyboardInterrupt\u001b[0m                         Traceback (most recent call last)",
      "Cell \u001b[1;32mIn[1], line 4\u001b[0m\n\u001b[0;32m      1\u001b[0m \u001b[39mfrom\u001b[39;00m \u001b[39mmatplotlib\u001b[39;00m \u001b[39mimport\u001b[39;00m pyplot\n\u001b[0;32m      2\u001b[0m \u001b[39mfrom\u001b[39;00m \u001b[39mimages_similarity_search\u001b[39;00m \u001b[39mimport\u001b[39;00m images_similarity_search\n\u001b[1;32m----> 4\u001b[0m results \u001b[39m=\u001b[39m images_similarity_search(\u001b[39m'\u001b[39;49m\u001b[39m./images/1.png\u001b[39;49m\u001b[39m'\u001b[39;49m, \u001b[39m500\u001b[39;49m)\n\u001b[0;32m      5\u001b[0m images \u001b[39m=\u001b[39m \u001b[39mlist\u001b[39m(\u001b[39mmap\u001b[39m(\u001b[39mlambda\u001b[39;00m x: x[\u001b[39m0\u001b[39m], results))\n\u001b[0;32m      6\u001b[0m labels \u001b[39m=\u001b[39m \u001b[39mlist\u001b[39m(\u001b[39mmap\u001b[39m(\u001b[39mlambda\u001b[39;00m x: \u001b[39m'\u001b[39m\u001b[39mDistance: \u001b[39m\u001b[39m'\u001b[39m \u001b[39m+\u001b[39m \u001b[39mstr\u001b[39m(x[\u001b[39m1\u001b[39m]), results))\n",
      "File \u001b[1;32mc:\\Users\\matia\\Desktop\\tensorflow\\gad-proyecto\\images_similarity_search.py:8\u001b[0m, in \u001b[0;36mimages_similarity_search\u001b[1;34m(filename, radius)\u001b[0m\n\u001b[0;32m      6\u001b[0m connection \u001b[39m=\u001b[39m getConnection()\n\u001b[0;32m      7\u001b[0m cursor \u001b[39m=\u001b[39m connection\u001b[39m.\u001b[39mcursor()\n\u001b[1;32m----> 8\u001b[0m vec \u001b[39m=\u001b[39m image_to_vec(filename)\n\u001b[0;32m     10\u001b[0m cursor\u001b[39m.\u001b[39mexecute(\n\u001b[0;32m     11\u001b[0m     \u001b[39m\"\u001b[39m\u001b[39mSELECT IMAGE_NAME, IMAGE_DISTANCE FROM IMAGES_SIMILARITY_SEARCH(\u001b[39m\u001b[39m%s\u001b[39;00m\u001b[39m,\u001b[39m\u001b[39m%s\u001b[39;00m\u001b[39m)\u001b[39m\u001b[39m\"\u001b[39m, (vec, radius))\n\u001b[0;32m     13\u001b[0m results \u001b[39m=\u001b[39m cursor\u001b[39m.\u001b[39mfetchall()\n",
      "File \u001b[1;32mc:\\Users\\matia\\Desktop\\tensorflow\\gad-proyecto\\img_to_vec.py:127\u001b[0m, in \u001b[0;36mimage_to_vec\u001b[1;34m(filename)\u001b[0m\n\u001b[0;32m    124\u001b[0m vector \u001b[39m=\u001b[39m []\n\u001b[0;32m    126\u001b[0m \u001b[39mfor\u001b[39;00m image \u001b[39min\u001b[39;00m split(filename):\n\u001b[1;32m--> 127\u001b[0m     vector \u001b[39m+\u001b[39m\u001b[39m=\u001b[39m child_image_to_vec(image)\n\u001b[0;32m    129\u001b[0m \u001b[39mreturn\u001b[39;00m vector\n",
      "File \u001b[1;32mc:\\Users\\matia\\Desktop\\tensorflow\\gad-proyecto\\img_to_vec.py:137\u001b[0m, in \u001b[0;36mchild_image_to_vec\u001b[1;34m(img)\u001b[0m\n\u001b[0;32m    135\u001b[0m \u001b[39mfor\u001b[39;00m subimg \u001b[39min\u001b[39;00m img:\n\u001b[0;32m    136\u001b[0m     \u001b[39mfor\u001b[39;00m vec \u001b[39min\u001b[39;00m subimg:\n\u001b[1;32m--> 137\u001b[0m         vector[match_image_color_with_palette_color(vec)[\u001b[39m'\u001b[39m\u001b[39mname\u001b[39m\u001b[39m'\u001b[39m]] \u001b[39m+\u001b[39m\u001b[39m=\u001b[39m \u001b[39m1\u001b[39m\n\u001b[0;32m    139\u001b[0m \u001b[39mreturn\u001b[39;00m vector\n",
      "File \u001b[1;32mc:\\Users\\matia\\Desktop\\tensorflow\\gad-proyecto\\img_to_vec.py:146\u001b[0m, in \u001b[0;36mmatch_image_color_with_palette_color\u001b[1;34m(vector)\u001b[0m\n\u001b[0;32m    144\u001b[0m colorResult \u001b[39m=\u001b[39m {}\n\u001b[0;32m    145\u001b[0m \u001b[39mfor\u001b[39;00m color \u001b[39min\u001b[39;00m COLOR_PALETTE:\n\u001b[1;32m--> 146\u001b[0m     p_distance \u001b[39m=\u001b[39m distance(vector, color[\u001b[39m'\u001b[39m\u001b[39mvalues\u001b[39m\u001b[39m'\u001b[39m])\n\u001b[0;32m    147\u001b[0m     \u001b[39mif\u001b[39;00m (p_distance \u001b[39m==\u001b[39m \u001b[39m0\u001b[39m):\n\u001b[0;32m    148\u001b[0m         \u001b[39mreturn\u001b[39;00m color\n",
      "\u001b[1;31mKeyboardInterrupt\u001b[0m: "
     ]
    }
   ],
   "source": [
    "import ipyplot\n",
    "from images_similarity_search import images_similarity_search\n",
    "\n",
    "results = images_similarity_search('./images/1.png', 500)\n",
    "images = list(map(lambda x: x[0], results))\n",
    "labels = list(map(lambda x: 'Distance: ' + str(x[1]), results))\n",
    "\n",
    "ipyplot.plot_images(images, labels, img_width=200)\n"
   ]
  }
 ],
 "metadata": {
  "kernelspec": {
   "display_name": "Python 3",
   "language": "python",
   "name": "python3"
  },
  "language_info": {
   "codemirror_mode": {
    "name": "ipython",
    "version": 3
   },
   "file_extension": ".py",
   "mimetype": "text/x-python",
   "name": "python",
   "nbconvert_exporter": "python",
   "pygments_lexer": "ipython3",
   "version": "3.9.13"
  },
  "orig_nbformat": 4
 },
 "nbformat": 4,
 "nbformat_minor": 2
}
